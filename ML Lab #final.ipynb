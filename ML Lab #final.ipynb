{
 "cells": [
  {
   "cell_type": "code",
   "execution_count": 1,
   "id": "e0b3c2e8",
   "metadata": {},
   "outputs": [
    {
     "name": "stdout",
     "output_type": "stream",
     "text": [
      "0.9777777777777777\n"
     ]
    }
   ],
   "source": [
    "from sklearn import datasets\n",
    "from sklearn.model_selection import train_test_split\n",
    "from sklearn.svm import SVC\n",
    "\n",
    "#load datasets\n",
    "X,y = datasets.load_iris(return_X_y=True)\n",
    "\n",
    "#split data in training and test sets\n",
    "X_train,X_test,y_train,y_test = train_test_split(X,y,test_size=0.3)\n",
    "\n",
    "#train SVM Model\n",
    "model = SVC(kernel='linear').fit(X_train,y_train)\n",
    "\n",
    "#print accuracy\n",
    "print(model.score(X_test,y_test))"
   ]
  },
  {
   "cell_type": "code",
   "execution_count": 2,
   "id": "10b25811",
   "metadata": {},
   "outputs": [
    {
     "name": "stdout",
     "output_type": "stream",
     "text": [
      "True\n"
     ]
    }
   ],
   "source": [
    "year=2024\n",
    "print(year%4==0 and (year%100!=0 or year%400==0))"
   ]
  },
  {
   "cell_type": "code",
   "execution_count": 3,
   "id": "08ce6b50",
   "metadata": {},
   "outputs": [
    {
     "name": "stdout",
     "output_type": "stream",
     "text": [
      "Predictions: [0 0 0]\n"
     ]
    }
   ],
   "source": [
    "import numpy as np\n",
    "# Example dataset\n",
    "X_train = np.array([[1, 2], [2, 3], [3, 4], [6, 7], [7, 8], [8, 9]])\n",
    "y_train = np.array([0, 0, 0, 1, 1, 1])\n",
    "X_test = np.array([[5, 5], [1, 1]])\n",
    "# KNN algorithm\n",
    "def knn_predict(X_train, y_train, X_test, k=3):\n",
    "    distances = np.linalg.norm(X_train[:, np.newaxis] - X_test, axis=2) \n",
    "    nearest_indices = np.argsort(distances, axis=0)[:k]\n",
    "    nearest_labels = y_train[nearest_indices]\n",
    "    predictions = np.array([np.bincount(labels).argmax() for labels in nearest_labels])\n",
    "    return predictions\n",
    "# Predictions\n",
    "predictions = knn_predict(X_train, y_train, X_test) \n",
    "print(\"Predictions:\", predictions)"
   ]
  },
  {
   "cell_type": "code",
   "execution_count": 6,
   "id": "7204a2b9",
   "metadata": {},
   "outputs": [
    {
     "name": "stdout",
     "output_type": "stream",
     "text": [
      "Factorial of 5 is: 120\n"
     ]
    }
   ],
   "source": [
    "def factorial(n):\n",
    "    return 1 if n==0 else n*factorial(n-1)\n",
    "n=5\n",
    "print(\"Factorial of\",n,\"is:\",factorial(n))"
   ]
  },
  {
   "cell_type": "code",
   "execution_count": null,
   "id": "0bab5ada",
   "metadata": {},
   "outputs": [],
   "source": []
  }
 ],
 "metadata": {
  "kernelspec": {
   "display_name": "Python 3 (ipykernel)",
   "language": "python",
   "name": "python3"
  },
  "language_info": {
   "codemirror_mode": {
    "name": "ipython",
    "version": 3
   },
   "file_extension": ".py",
   "mimetype": "text/x-python",
   "name": "python",
   "nbconvert_exporter": "python",
   "pygments_lexer": "ipython3",
   "version": "3.11.4"
  }
 },
 "nbformat": 4,
 "nbformat_minor": 5
}
